{
 "cells": [
  {
   "cell_type": "code",
   "execution_count": null,
   "metadata": {
    "scrolled": true
   },
   "outputs": [],
   "source": []
  },
  {
   "cell_type": "code",
   "execution_count": 15,
   "metadata": {
    "scrolled": true
   },
   "outputs": [
    {
     "name": "stdout",
     "output_type": "stream",
     "text": [
      "['high', 'high', '2', '4', 'med', 'low', 'unacc']\n",
      "['high', 'high', '4', 'more', 'small', 'high', 'acc']\n",
      "['high', 'high', '4', 'more', 'big', 'low', 'unacc']\n",
      "['high', 'low', '2', 'more', 'big', 'high', 'acc']\n",
      "['vhigh', 'low', '3', '2', 'med', 'med', 'unacc']\n",
      "['low', 'high', '2', '2', 'small', 'low', 'unacc']\n",
      "['med', 'med', '4', 'more', 'med', 'high', 'vgood']\n",
      "['low', 'low', '3', '2', 'big', 'med', 'unacc']\n",
      "['vhigh', 'low', '2', '2', 'small', 'low', 'unacc']\n",
      "['vhigh', 'high', '4', '4', 'med', 'low', 'unacc']\n",
      "['low', 'low', '2', '2', 'med', 'med', 'unacc']\n",
      "['vhigh', 'low', '4', 'more', 'small', 'high', 'acc']\n",
      "['high', 'low', '2', '4', 'big', 'med', 'acc']\n",
      "['low', 'vhigh', '3', 'more', 'big', 'low', 'unacc']\n",
      "['high', 'low', '5more', '2', 'big', 'med', 'unacc']\n",
      "['vhigh', 'high', '2', 'more', 'med', 'high', 'unacc']\n",
      "['med', 'med', '2', '2', 'small', 'low', 'unacc']\n",
      "['high', 'low', '5more', '4', 'med', 'high', 'acc']\n",
      "['low', 'low', '3', 'more', 'med', 'high', 'vgood']\n",
      "['low', 'low', '2', '2', 'big', 'med', 'unacc']\n",
      "['med', 'high', '4', '2', 'big', 'high', 'unacc']\n",
      "['low', 'low', '2', '2', 'small', 'high', 'unacc']\n",
      "['vhigh', 'high', '5more', '4', 'med', 'med', 'unacc']\n",
      "['med', 'vhigh', '2', '2', 'big', 'low', 'unacc']\n",
      "['low', 'vhigh', '4', '4', 'big', 'low', 'unacc']\n",
      "['vhigh', 'low', '3', 'more', 'big', 'low', 'unacc']\n",
      "['med', 'vhigh', '3', '4', 'small', 'low', 'unacc']\n",
      "['high', 'high', '3', '4', 'med', 'med', 'unacc']\n",
      "['low', 'high', '5more', '2', 'big', 'low', 'unacc']\n",
      "['med', 'high', '5more', '2', 'med', 'med', 'unacc']\n",
      "['high', 'low', '3', '4', 'med', 'high', 'acc']\n",
      "['high', 'vhigh', '5more', '4', 'med', 'med', 'unacc']\n",
      "['low', 'low', '5more', '2', 'med', 'low', 'unacc']\n",
      "['vhigh', 'vhigh', '4', '2', 'big', 'high', 'unacc']\n",
      "['high', 'low', '3', '2', 'big', 'high', 'unacc']\n"
     ]
    }
   ],
   "source": [
    "import csv\n",
    "with open (r\"C:\\Users\\13750\\Desktop\\yu\\DAV5400 Analytics Programming\\Assignment\\M_Yang_W2_assn\\M_Yang_W2_assn\\cars-sample35.txt\") as csvfile:\n",
    "    readCSV = csv.reader(csvfile)\n",
    "    for row in readCSV:\n",
    "        print(row)"
   ]
  },
  {
   "cell_type": "markdown",
   "metadata": {},
   "source": [
    "task 1"
   ]
  },
  {
   "cell_type": "code",
   "execution_count": 19,
   "metadata": {},
   "outputs": [
    {
     "name": "stdout",
     "output_type": "stream",
     "text": [
      "['high', 'high', 'high', 'high', 'vhigh', 'low', 'med', 'low', 'vhigh', 'vhigh', 'low', 'vhigh', 'high', 'low', 'high', 'vhigh', 'med', 'high', 'low', 'low', 'med', 'low', 'vhigh', 'med', 'low', 'vhigh', 'med', 'high', 'low', 'med', 'high', 'high', 'low', 'vhigh', 'high']\n"
     ]
    }
   ],
   "source": [
    "#the list of attributes of price\n",
    "import csv\n",
    "with open (r\"C:\\Users\\13750\\Desktop\\yu\\DAV5400 Analytics Programming\\Assignment\\M_Yang_W2_assn\\M_Yang_W2_assn\\cars-sample35.txt\") as csvfile:\n",
    "    readCSV = csv.reader(csvfile)\n",
    "    Price = [row[0] for row in readCSV]#find the data that index is 0 in the each row of readCSV, the index 0 represent the price\n",
    "print(Price)"
   ]
  },
  {
   "cell_type": "code",
   "execution_count": 22,
   "metadata": {},
   "outputs": [
    {
     "name": "stdout",
     "output_type": "stream",
     "text": [
      "['high', 'high', 'high', 'low', 'low', 'high', 'med', 'low', 'low', 'high', 'low', 'low', 'low', 'vhigh', 'low', 'high', 'med', 'low', 'low', 'low', 'high', 'low', 'high', 'vhigh', 'vhigh', 'low', 'vhigh', 'high', 'high', 'high', 'low', 'vhigh', 'low', 'vhigh', 'low']\n"
     ]
    }
   ],
   "source": [
    "# the list of attributes of Maintenance cost\n",
    "import csv\n",
    "with open (r\"C:\\Users\\13750\\Desktop\\yu\\DAV5400 Analytics Programming\\Assignment\\M_Yang_W2_assn\\M_Yang_W2_assn\\cars-sample35.txt\") as csvfile:\n",
    "    readCSV = csv.reader(csvfile)\n",
    "    Maintenance_cost = [row[1] for row in readCSV]#find the data that index is 1 in the each row of readCSV,the index 1 represent the maintenance cost\n",
    "print(Maintenance_cost)"
   ]
  },
  {
   "cell_type": "code",
   "execution_count": 24,
   "metadata": {
    "scrolled": true
   },
   "outputs": [
    {
     "name": "stdout",
     "output_type": "stream",
     "text": [
      "['2', '4', '4', '2', '3', '2', '4', '3', '2', '4', '2', '4', '2', '3', '5more', '2', '2', '5more', '3', '2', '4', '2', '5more', '2', '4', '3', '3', '3', '5more', '5more', '3', '5more', '5more', '4', '3']\n"
     ]
    }
   ],
   "source": [
    "# the list of attributes of Number of doors\n",
    "import csv\n",
    "with open (r\"C:\\Users\\13750\\Desktop\\yu\\DAV5400 Analytics Programming\\Assignment\\M_Yang_W2_assn\\M_Yang_W2_assn\\cars-sample35.txt\") as csvfile:\n",
    "    readCSV = csv.reader(csvfile)\n",
    "    Number_of_doors = [row[2] for row in readCSV]#find the data that index is 2 in the each row of readCSV,the index 2 represent the number of doors\n",
    "print(Number_of_doors)"
   ]
  },
  {
   "cell_type": "code",
   "execution_count": 42,
   "metadata": {},
   "outputs": [
    {
     "name": "stdout",
     "output_type": "stream",
     "text": [
      "['4', 'more', 'more', 'more', '2', '2', 'more', '2', '2', '4', '2', 'more', '4', 'more', '2', 'more', '2', '4', 'more', '2', '2', '2', '4', '2', '4', 'more', '4', '4', '2', '2', '4', '4', '2', '2', '2']\n"
     ]
    }
   ],
   "source": [
    "# the list of attributes of Number of passengers\n",
    "import csv\n",
    "with open (r\"C:\\Users\\13750\\Desktop\\yu\\DAV5400 Analytics Programming\\Assignment\\M_Yang_W2_assn\\M_Yang_W2_assn\\cars-sample35.txt\") as csvfile:\n",
    "    readCSV = csv.reader(csvfile)\n",
    "    Number_of_passengers = [row[3] for row in readCSV]#find the data that index is 3 in the each row of readCSV, the index 3 represent the number of passengers\n",
    "print(Number_of_passengers)"
   ]
  },
  {
   "cell_type": "code",
   "execution_count": 31,
   "metadata": {},
   "outputs": [
    {
     "name": "stdout",
     "output_type": "stream",
     "text": [
      "['med', 'small', 'big', 'big', 'med', 'small', 'med', 'big', 'small', 'med', 'med', 'small', 'big', 'big', 'big', 'med', 'small', 'med', 'med', 'big', 'big', 'small', 'med', 'big', 'big', 'big', 'small', 'med', 'big', 'med', 'med', 'med', 'med', 'big', 'big']\n"
     ]
    }
   ],
   "source": [
    "# the list of attributes of Luggage capacity\n",
    "import csv\n",
    "with open (r\"C:\\Users\\13750\\Desktop\\yu\\DAV5400 Analytics Programming\\Assignment\\M_Yang_W2_assn\\M_Yang_W2_assn\\cars-sample35.txt\") as csvfile:\n",
    "    readCSV = csv.reader(csvfile)\n",
    "    Luggage_capacity = [row[4] for row in readCSV]#find the data that index is 4 in the each row of readCSV, the index 4 represent the luggage capacity\n",
    "print(Luggage_capacity)"
   ]
  },
  {
   "cell_type": "code",
   "execution_count": 32,
   "metadata": {},
   "outputs": [
    {
     "name": "stdout",
     "output_type": "stream",
     "text": [
      "['low', 'high', 'low', 'high', 'med', 'low', 'high', 'med', 'low', 'low', 'med', 'high', 'med', 'low', 'med', 'high', 'low', 'high', 'high', 'med', 'high', 'high', 'med', 'low', 'low', 'low', 'low', 'med', 'low', 'med', 'high', 'med', 'low', 'high', 'high']\n"
     ]
    }
   ],
   "source": [
    "# the list of attributes of Safety rating\n",
    "import csv\n",
    "with open (r\"C:\\Users\\13750\\Desktop\\yu\\DAV5400 Analytics Programming\\Assignment\\M_Yang_W2_assn\\M_Yang_W2_assn\\cars-sample35.txt\") as csvfile:\n",
    "    readCSV = csv.reader(csvfile)\n",
    "    Safety_rating = [row[5] for row in readCSV] #find the data that index is 5 in the each row of readCSV, the index 5 represent the safety rating\n",
    "print(Safety_rating)"
   ]
  },
  {
   "cell_type": "code",
   "execution_count": 34,
   "metadata": {},
   "outputs": [
    {
     "name": "stdout",
     "output_type": "stream",
     "text": [
      "['unacc', 'acc', 'unacc', 'acc', 'unacc', 'unacc', 'vgood', 'unacc', 'unacc', 'unacc', 'unacc', 'acc', 'acc', 'unacc', 'unacc', 'unacc', 'unacc', 'acc', 'vgood', 'unacc', 'unacc', 'unacc', 'unacc', 'unacc', 'unacc', 'unacc', 'unacc', 'unacc', 'unacc', 'unacc', 'acc', 'unacc', 'unacc', 'unacc', 'unacc']\n"
     ]
    }
   ],
   "source": [
    "# the list of attributes of Classification of vehicle\n",
    "import csv\n",
    "with open (r\"C:\\Users\\13750\\Desktop\\yu\\DAV5400 Analytics Programming\\Assignment\\M_Yang_W2_assn\\M_Yang_W2_assn\\cars-sample35.txt\") as csvfile:\n",
    "    readCSV = csv.reader(csvfile)\n",
    "    Classification_of_vehicle = [row[6] for row in readCSV]#find the data that index is 6 in the each row of readCSV,the index 6 represent the classification if vihicle\n",
    "print(Classification_of_vehicle)"
   ]
  },
  {
   "cell_type": "markdown",
   "metadata": {},
   "source": [
    "task 2"
   ]
  },
  {
   "cell_type": "code",
   "execution_count": 49,
   "metadata": {
    "scrolled": true
   },
   "outputs": [
    {
     "name": "stdout",
     "output_type": "stream",
     "text": [
      "['vgood', 'unacc', 'unacc', 'unacc', 'unacc', 'unacc']\n"
     ]
    }
   ],
   "source": [
    "import csv\n",
    "with open (r\"C:\\Users\\13750\\Desktop\\yu\\DAV5400 Analytics Programming\\Assignment\\M_Yang_W2_assn\\M_Yang_W2_assn\\cars-sample35.txt\") as csvfile:\n",
    "    readCSV = csv.reader(csvfile)\n",
    "    sub = 'med'# initializing the substring as 'med'\n",
    "    Classification_of_med_price_vehicle = [row[6] for row in readCSV if sub in row[0]] #find the data that locate at position 6 (classification of vehicle) of each row and santisfy the sub requirement \n",
    "print(Classification_of_med_vehicle)"
   ]
  },
  {
   "cell_type": "markdown",
   "metadata": {},
   "source": [
    "Task 3"
   ]
  },
  {
   "cell_type": "code",
   "execution_count": 5,
   "metadata": {
    "scrolled": true
   },
   "outputs": [
    {
     "name": "stdout",
     "output_type": "stream",
     "text": [
      "['more', '2', '2', '2', '4', '2']\n"
     ]
    }
   ],
   "source": [
    "import csv\n",
    "with open (r\"C:\\Users\\13750\\Desktop\\yu\\DAV5400 Analytics Programming\\Assignment\\M_Yang_W2_assn\\M_Yang_W2_assn\\cars-sample35.txt\") as csvfile:\n",
    "    readCSV = csv.reader(csvfile)\n",
    "    sub = 'med'# initializing the substring as 'med'\n",
    "    Number_of_med_price_passengers = [row[3] for row in readCSV if sub in row[0]]#find the data that locate at position 3 （number of passages) of each row and santisfy the sub requirement \n",
    "print(Number_of_med_price_passengers)"
   ]
  },
  {
   "cell_type": "markdown",
   "metadata": {},
   "source": [
    "Task 4"
   ]
  },
  {
   "cell_type": "code",
   "execution_count": 38,
   "metadata": {},
   "outputs": [
    {
     "name": "stdout",
     "output_type": "stream",
     "text": [
      "['unacc', 'acc', 'unacc', 'unacc', 'unacc']\n"
     ]
    }
   ],
   "source": [
    "import csv\n",
    "with open (r\"C:\\Users\\13750\\Desktop\\yu\\DAV5400 Analytics Programming\\Assignment\\M_Yang_W2_assn\\M_Yang_W2_assn\\cars-sample35.txt\") as csvfile:\n",
    "    readCSV = csv.reader(csvfile)  \n",
    "    lst1 = [row[6] for row in readCSV if (row[0] == 'high') & (row[1] != 'low')] #find the data that locate at position 6 （classification of vehicle) of each row and santisfy the price is high and  maintenence cost is not low\n",
    "\n",
    "print(lst1)"
   ]
  },
  {
   "cell_type": "code",
   "execution_count": 76,
   "metadata": {},
   "outputs": [
    {
     "name": "stdout",
     "output_type": "stream",
     "text": [
      "['acc', 'acc', 'unacc', 'unacc']\n"
     ]
    }
   ],
   "source": [
    "import csv\n",
    "with open (r\"C:\\Users\\13750\\Desktop\\yu\\DAV5400 Analytics Programming\\Assignment\\M_Yang_W2_assn\\M_Yang_W2_assn\\cars-sample35.txt\") as csvfile:\n",
    "    readCSV = csv.reader(csvfile)  \n",
    "    lst2 = [row[6] for row in readCSV if (row[2] == '2') & (row[4] == 'big')]\n",
    "    print(lst2)"
   ]
  },
  {
   "cell_type": "markdown",
   "metadata": {},
   "source": [
    "Task 5"
   ]
  },
  {
   "cell_type": "code",
   "execution_count": 78,
   "metadata": {},
   "outputs": [
    {
     "ename": "ValueError",
     "evalue": "<generator object <genexpr> at 0x0000027182F0C480> is not in list",
     "output_type": "error",
     "traceback": [
      "\u001b[1;31m---------------------------------------------------------------------------\u001b[0m",
      "\u001b[1;31mValueError\u001b[0m                                Traceback (most recent call last)",
      "\u001b[1;32m<ipython-input-78-f3cbd2e2a66f>\u001b[0m in \u001b[0;36m<module>\u001b[1;34m\u001b[0m\n\u001b[0;32m      4\u001b[0m     \u001b[0mlst1\u001b[0m \u001b[1;33m=\u001b[0m \u001b[1;33m[\u001b[0m\u001b[0mrow\u001b[0m\u001b[1;33m[\u001b[0m\u001b[1;36m6\u001b[0m\u001b[1;33m]\u001b[0m \u001b[1;32mfor\u001b[0m \u001b[0mrow\u001b[0m \u001b[1;32min\u001b[0m \u001b[0mreadCSV\u001b[0m\u001b[1;33m]\u001b[0m\u001b[1;31m#find the data that index is 6 in the each row of readCSV,the index 6 represent the classification if vihicle\u001b[0m\u001b[1;33m\u001b[0m\u001b[1;33m\u001b[0m\u001b[0m\n\u001b[0;32m      5\u001b[0m     \u001b[0mlst2\u001b[0m \u001b[1;33m=\u001b[0m \u001b[1;33m[\u001b[0m\u001b[0mrow\u001b[0m\u001b[1;33m[\u001b[0m\u001b[1;36m6\u001b[0m\u001b[1;33m]\u001b[0m \u001b[1;32mfor\u001b[0m \u001b[0mrow\u001b[0m \u001b[1;32min\u001b[0m \u001b[0mreadCSV\u001b[0m \u001b[1;32mif\u001b[0m \u001b[1;33m(\u001b[0m\u001b[0mrow\u001b[0m\u001b[1;33m[\u001b[0m\u001b[1;36m2\u001b[0m\u001b[1;33m]\u001b[0m \u001b[1;33m==\u001b[0m \u001b[1;34m'2'\u001b[0m\u001b[1;33m)\u001b[0m \u001b[1;33m&\u001b[0m \u001b[1;33m(\u001b[0m\u001b[0mrow\u001b[0m\u001b[1;33m[\u001b[0m\u001b[1;36m4\u001b[0m\u001b[1;33m]\u001b[0m \u001b[1;33m==\u001b[0m \u001b[1;34m'big'\u001b[0m\u001b[1;33m)\u001b[0m\u001b[1;33m]\u001b[0m \u001b[1;31m#find the data that santisfy the number of door is 2 and luaggage capacity is big\u001b[0m\u001b[1;33m\u001b[0m\u001b[1;33m\u001b[0m\u001b[0m\n\u001b[1;32m----> 6\u001b[1;33m     \u001b[0mlist1\u001b[0m\u001b[1;33m.\u001b[0m\u001b[0mindex\u001b[0m\u001b[1;33m(\u001b[0m\u001b[0mrow\u001b[0m\u001b[1;33m[\u001b[0m\u001b[1;36m6\u001b[0m\u001b[1;33m]\u001b[0m \u001b[1;32mfor\u001b[0m \u001b[0mrow\u001b[0m \u001b[1;32min\u001b[0m \u001b[0mreadCSV\u001b[0m \u001b[1;32mif\u001b[0m \u001b[1;33m(\u001b[0m\u001b[0mrow\u001b[0m\u001b[1;33m[\u001b[0m\u001b[1;36m2\u001b[0m\u001b[1;33m]\u001b[0m \u001b[1;33m==\u001b[0m \u001b[1;34m'2'\u001b[0m\u001b[1;33m)\u001b[0m \u001b[1;33m&\u001b[0m \u001b[1;33m(\u001b[0m\u001b[0mrow\u001b[0m\u001b[1;33m[\u001b[0m\u001b[1;36m4\u001b[0m\u001b[1;33m]\u001b[0m \u001b[1;33m==\u001b[0m \u001b[1;34m'big'\u001b[0m\u001b[1;33m)\u001b[0m\u001b[1;33m)\u001b[0m\u001b[1;33m\u001b[0m\u001b[1;33m\u001b[0m\u001b[0m\n\u001b[0m",
      "\u001b[1;31mValueError\u001b[0m: <generator object <genexpr> at 0x0000027182F0C480> is not in list"
     ]
    }
   ],
   "source": [
    "import csv\n",
    "with open (r\"C:\\Users\\13750\\Desktop\\yu\\DAV5400 Analytics Programming\\Assignment\\M_Yang_W2_assn\\M_Yang_W2_assn\\cars-sample35.txt\") as csvfile:\n",
    "    readCSV = csv.reader(csvfile)  \n",
    "    lst1 = [row[6] for row in readCSV]#find the data that index is 6 in the each row of readCSV,the index 6 represent the classification if vihicle\n",
    "    lst2 = [row[6] for row in readCSV if (row[2] == '2') & (row[4] == 'big')] #find the data that santisfy the number of door is 2 and luaggage capacity is big\n",
    "###do not know the next step???\n"
   ]
  },
  {
   "cell_type": "markdown",
   "metadata": {},
   "source": [
    "Task 6"
   ]
  },
  {
   "cell_type": "code",
   "execution_count": null,
   "metadata": {},
   "outputs": [],
   "source": []
  },
  {
   "cell_type": "code",
   "execution_count": 69,
   "metadata": {},
   "outputs": [
    {
     "name": "stdout",
     "output_type": "stream",
     "text": [
      "3\n"
     ]
    }
   ],
   "source": [
    "import csv\n",
    "with open (r\"C:\\Users\\13750\\Desktop\\yu\\DAV5400 Analytics Programming\\Assignment\\M_Yang_W2_assn\\M_Yang_W2_assn\\cars-sample35.txt\") as csvfile:\n",
    "    readCSV = csv.reader(csvfile) \n",
    "    lst1 = [row[2] for row in readCSV] #find the list that represent the number of doors from readCSV \n",
    "    lst2 = ['5' if i == '5more' else i for i in lst1] # use 5 replace '5more'\n",
    "    lst3 = [int(x) for x in lst2] #change string lst2 to be integer lst3\n",
    "    lst3.sort() #sort the list3\n",
    "    lst4 = \"{:.0f}\".format(sum(lst3)/len(lst3)) #average the list3 and make it integer as list4\n",
    "    print(lst4)\n",
    "    \n",
    "    "
   ]
  }
 ],
 "metadata": {
  "kernelspec": {
   "display_name": "Python 3",
   "language": "python",
   "name": "python3"
  },
  "language_info": {
   "codemirror_mode": {
    "name": "ipython",
    "version": 3
   },
   "file_extension": ".py",
   "mimetype": "text/x-python",
   "name": "python",
   "nbconvert_exporter": "python",
   "pygments_lexer": "ipython3",
   "version": "3.7.3"
  }
 },
 "nbformat": 4,
 "nbformat_minor": 2
}
